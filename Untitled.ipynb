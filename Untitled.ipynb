{
 "cells": [
  {
   "cell_type": "code",
   "execution_count": 1,
   "id": "a3c36323-5bd9-469d-8f52-8662285261f8",
   "metadata": {},
   "outputs": [
    {
     "data": {
      "text/plain": [
       "True"
      ]
     },
     "execution_count": 1,
     "metadata": {},
     "output_type": "execute_result"
    }
   ],
   "source": [
    "from libhiaac.temporal.datasets.kuhar import BalancedTimeDomainKuHar\n",
    "from libhiaac.temporal.datasets.dataset import TemporalSample\n",
    "from libhiaac.temporal.transforms.transforms import Composer, MultiComposer, SpectrogramExtractor, SpectrogramColorMesh\n",
    "from libhiaac.utils.dataset import SimpleDataset, SimpleDataLoader, DataLoader\n",
    "import torch\n",
    "import torchvision\n",
    "import numpy as np\n",
    "import matplotlib.pyplot as plt\n",
    "import functools\n",
    "from typing import List\n",
    "torch.cuda.is_available()"
   ]
  },
  {
   "cell_type": "code",
   "execution_count": 2,
   "id": "f91de2da-c054-4a8d-b8e6-d8c9aff4b7b1",
   "metadata": {},
   "outputs": [
    {
     "name": "stdout",
     "output_type": "stream",
     "text": [
      "'data/datasets/KuHar/Balanced/val.csv' already exists and will not be downloaded again\n",
      "Done!\n"
     ]
    }
   ],
   "source": [
    "def get_from_axis(x, axis):\n",
    "    return x[:, axis]\n",
    "\n",
    "get_axis_x = functools.partial(get_from_axis, axis=0)\n",
    "get_axis_y = functools.partial(get_from_axis, axis=1)\n",
    "get_axis_z = functools.partial(get_from_axis, axis=2)\n",
    "\n",
    "spec_extract = SpectrogramExtractor(fs=100, nperseg=10, nooverlap=1)\n",
    "spec_mesher = SpectrogramColorMesh(figsize=(1, 1), shading=\"gouraud\", vmin=0.0, vmax=0.0001)\n",
    "\n",
    "composer_combined = Composer([spec_extract, spec_mesher])\n",
    "composer_x = Composer([get_axis_x, spec_extract, spec_mesher])\n",
    "composer_y = Composer([get_axis_y, spec_extract, spec_mesher])\n",
    "composer_z = Composer([get_axis_z, spec_extract, spec_mesher])\n",
    "\n",
    "multi_composer = MultiComposer([composer_x, composer_y, composer_z], combiner_method=functools.partial(np.concatenate, axis=2))\n",
    "\n",
    "val_dataset = BalancedTimeDomainKuHar(dataset_path=\"data/datasets/KuHar/Balanced\", download=True, mode=\"validation\", transforms=multi_composer)"
   ]
  },
  {
   "cell_type": "code",
   "execution_count": 3,
   "id": "fd5edb4c-92de-4af7-b5d4-6afde92e0076",
   "metadata": {},
   "outputs": [
    {
     "data": {
      "text/plain": [
       "(72, 72, 9)"
      ]
     },
     "execution_count": 3,
     "metadata": {},
     "output_type": "execute_result"
    }
   ],
   "source": [
    "val_dataset[0][\"gyroscope\"].shape"
   ]
  },
  {
   "cell_type": "code",
   "execution_count": 4,
   "id": "d2971d09-cef3-4b43-9d37-0bf905efad05",
   "metadata": {},
   "outputs": [
    {
     "name": "stdout",
     "output_type": "stream",
     "text": [
      "'data/datasets/KuHar/Balanced/val.csv' already exists and will not be downloaded again\n",
      "Done!\n"
     ]
    }
   ],
   "source": [
    "val_dataset = BalancedTimeDomainKuHar(dataset_path=\"data/datasets/KuHar/Balanced\", download=True, mode=\"validation\", transforms=None)"
   ]
  },
  {
   "cell_type": "code",
   "execution_count": 7,
   "id": "1b18567c-21ce-4f0d-920f-c009418b02c0",
   "metadata": {},
   "outputs": [],
   "source": [
    "from libhiaac.models.cnn.lenet import LeNet\n",
    "lenet = LeNet(num_classes=18)"
   ]
  },
  {
   "cell_type": "code",
   "execution_count": 10,
   "id": "934a3c95-fd80-44f9-9fad-ab39c2aeba15",
   "metadata": {},
   "outputs": [
    {
     "data": {
      "text/plain": [
       "tensor([[ 0.0803, -0.0141, -0.0084,  0.1222, -0.0602,  0.0898, -0.0365,  0.0962,\n",
       "         -0.0642,  0.0245, -0.0479,  0.0300,  0.0356,  0.0486,  0.0040, -0.0472,\n",
       "         -0.1367, -0.0976]], grad_fn=<AddmmBackward0>)"
      ]
     },
     "execution_count": 10,
     "metadata": {},
     "output_type": "execute_result"
    }
   ],
   "source": [
    "lenet(torch.rand([1, 3, 32, 32]))"
   ]
  },
  {
   "cell_type": "raw",
   "id": "25595232-ed71-4bd8-8ed4-48af8018e233",
   "metadata": {
    "jp-MarkdownHeadingCollapsed": true,
    "tags": []
   },
   "source": [
    "# https://stackoverflow.com/questions/51478221/different-results-for-butterworth-filter-in-r-and-python\n",
    "\n",
    "# Author: Hoda Allahbakhshi\n",
    "# Based on Bayat, Akram, Marc Pomplun, and Duc A. Tran. \"A study on human activity recognition using accelerometer data from smartphones.\" Procedia Computer Science 34 (2014): 450-457.\n",
    "\n",
    "# Seperate linear acceleration from gravity component using a 3D accelerometer\n",
    "Gravity_motion<- function(raw_data)\n",
    "{\n",
    "  fs = 50.0 ### 3D accelerometer sampling rate, Hz\n",
    "  \n",
    "  nyq = 0.5 * fs\n",
    "  \n",
    "  cutoff = 0.35 ###paper suggests 0.1Hz - 0.5Hz to cutoff gravity\n",
    "  \n",
    "  normal_cutoff = cutoff / nyq\n",
    "  \n",
    "  order = 1 ### paper use order of 1. \n",
    "  \n",
    "  timeStep = 1.0/fs\n",
    "  \n",
    "  library(signal)\n",
    "  \n",
    "  bf<- butter(order, normal_cutoff,type=c(\"low\"), plane=c(\"z\"))\n",
    "  \n",
    "  gravityX=filtfilt(bf, raw_data$Acc_X)\n",
    "  \n",
    "  gravityY=filtfilt(bf, raw_data$Acc_Y)\n",
    "  \n",
    "  gravityZ=filtfilt(bf, raw_data$Acc_Z)\n",
    "  \n",
    "  Totalgravity=filtfilt(bf, raw_data$SVM)\n",
    "  \n",
    "  MotionX=raw_data$Acc_X-gravityX\n",
    "  \n",
    "  MotionY=raw_data$Acc_Y-gravityY\n",
    "  \n",
    "  MotionZ=raw_data$Acc_Z-gravityZ\n",
    "  \n",
    "  TotalMotion=raw_data$SVM-Totalgravity\n",
    "  \n",
    "  Result<- list(gravityX,gravityY,gravityZ,Totalgravity,MotionX,MotionY,MotionZ,TotalMotion)\n",
    "  \n",
    "  names(Result)<-c(\"gravityX\",\"gravityY\",\"gravityZ\",\"Totalgravity\",\"MotionX\",\"MotionY\",\"MotionZ\",\"TotalMotion\")\n",
    "  \n",
    "  return(Result)}\n",
    "\n",
    "# https://github.com/bwdeng20/harX/blob/e4ada3fc2914393a6793740c3c636b84e363d064/utils/preprocess.py#L38\n",
    "\n",
    "# https://www.researchgate.net/post/How_to_separate_linear_acceleration_from_gravity_component_using_a_3D_accelerometer"
   ]
  },
  {
   "cell_type": "code",
   "execution_count": null,
   "id": "751d4679-bdb6-4a39-8470-238b716b3c69",
   "metadata": {},
   "outputs": [],
   "source": [
    "class MotionExtractor:\n",
    "    def __init__(self, fs: float = 100.0, cutoff: float = 0.35, order: int = 1):\n",
    "        self.fs = fs\n",
    "        self.cutoff = cutoff\n",
    "        self.order = order\n",
    "        \n",
    "    def __call__(self, x)"
   ]
  },
  {
   "cell_type": "code",
   "execution_count": 14,
   "id": "e3e735f2-7398-40c4-92c5-e6773395d2c4",
   "metadata": {},
   "outputs": [],
   "source": [
    "from scipy import signal\n",
    "\n",
    "def gravity_motion(acc_x, acc_y, acc_z, fs: float = 100.0, cutoff: float = 0.35, order: int = 1):\n",
    "    nyq = 0.5 * fs\n",
    "    normal_cutoff = cutoff/nyq\n",
    "    time_step = 1,0/fs\n",
    "    b, a =signal.butter(N=1, Wn=normal_cutoff, btype=\"lowpass\", analog=False)\n",
    "    gravity_x = signal.filtfilt(b, a, acc_x, padtype=\"odd\", padlen=3*(max(len(b),len(a))-1))\n",
    "    gravity_y = signal.filtfilt(b, a, acc_y, padtype=\"odd\", padlen=3*(max(len(b),len(a))-1))\n",
    "    gravity_z = signal.filtfilt(b, a, acc_z, padtype=\"odd\", padlen=3*(max(len(b),len(a))-1))\n",
    "    motion_x = acc_x-gravity_x\n",
    "    motion_y = acc_y-gravity_y\n",
    "    motion_z = acc_z-gravity_z\n",
    "    return gravity_x, gravity_y, gravity_z, motion_x, motion_y, motion_z"
   ]
  },
  {
   "cell_type": "code",
   "execution_count": 37,
   "id": "2934c6ef-0b07-41d9-8ad1-05ae12f30fd3",
   "metadata": {},
   "outputs": [
    {
     "data": {
      "text/plain": [
       "(300, 9)"
      ]
     },
     "execution_count": 37,
     "metadata": {},
     "output_type": "execute_result"
    }
   ],
   "source": [
    "acc_x = val_dataset[0][\"accelerometer\"][:,0]\n",
    "acc_y = val_dataset[0][\"accelerometer\"][:,1]\n",
    "acc_z = val_dataset[0][\"accelerometer\"][:,2]\n",
    "gyro_x = val_dataset[0][\"gyroscope\"][:,0]\n",
    "gyro_y = val_dataset[0][\"gyroscope\"][:,1]\n",
    "gyro_z = val_dataset[0][\"gyroscope\"][:,2]\n",
    "\n",
    "gravity_x, gravity_y, gravity_z, motion_x, motion_y, motion_z = gravity_motion(acc_x, acc_y, acc_z)\n",
    "result = np.stack([gyro_x, gyro_y, gyro_z, acc_x, acc_y, acc_z, motion_x, motion_y, motion_z], axis=1)\n",
    "result.shape"
   ]
  },
  {
   "cell_type": "code",
   "execution_count": 43,
   "id": "bcfdafe8-8e86-4f04-96ec-e7b7e29d8af0",
   "metadata": {},
   "outputs": [
    {
     "data": {
      "text/plain": [
       "<matplotlib.image.AxesImage at 0x7f49c40848e0>"
      ]
     },
     "execution_count": 43,
     "metadata": {},
     "output_type": "execute_result"
    },
    {
     "data": {
      "image/png": "[encoded data removed]",
      "text/plain": [
       "<Figure size 432x288 with 1 Axes>"
      ]
     },
     "metadata": {
      "needs_background": "light"
     },
     "output_type": "display_data"
    }
   ],
   "source": [
    "plt.imshow(result.swapaxes(1, 0))"
   ]
  },
  {
   "cell_type": "code",
   "execution_count": 49,
   "id": "d7471075-1bac-4e09-a7c7-fac3c0ee86af",
   "metadata": {},
   "outputs": [],
   "source": [
    "def Raw2Sig(Raw, Ns: int = 9):\n",
    "    i = 1\n",
    "    j = i + 1\n",
    "    SI = Raw[i - 1].reshape(1, -1)\n",
    "    SIS = '%d' % i\n",
    "    Nsis = 1\n",
    "\n",
    "    while i != j:\n",
    "        if j > Ns:\n",
    "            j = 1\n",
    "        elif ('%d%d' % (i, j) not in SIS) and ('%d%d' % (j, i) not in SIS):\n",
    "            SI = np.concatenate((SI, Raw[j - 1].reshape(1, -1)))\n",
    "            SIS += '%d' % j\n",
    "            Nsis += 1\n",
    "            i = j\n",
    "            j = i + 1\n",
    "        else:\n",
    "            j += 1\n",
    "\n",
    "    return SI[:-1]"
   ]
  },
  {
   "cell_type": "code",
   "execution_count": 50,
   "id": "ecdfb53c-101d-499b-8c1c-6342dd25340b",
   "metadata": {},
   "outputs": [
    {
     "data": {
      "text/plain": [
       "(36, 9)"
      ]
     },
     "execution_count": 50,
     "metadata": {},
     "output_type": "execute_result"
    }
   ],
   "source": [
    "r = Raw2Sig(result)\n",
    "r.shape"
   ]
  },
  {
   "cell_type": "code",
   "execution_count": 51,
   "id": "8e008a27-f230-4e3a-86c2-028c3b5f6c66",
   "metadata": {},
   "outputs": [
    {
     "data": {
      "text/plain": [
       "<matplotlib.image.AxesImage at 0x7f49c453de80>"
      ]
     },
     "execution_count": 51,
     "metadata": {},
     "output_type": "execute_result"
    },
    {
     "data": {
      "image/png": "[encoded data removed]",
      "text/plain": [
       "<Figure size 864x576 with 1 Axes>"
      ]
     },
     "metadata": {
      "needs_background": "light"
     },
     "output_type": "display_data"
    }
   ],
   "source": [
    "plt.gcf().set_size_inches(12, 8)\n",
    "plt.imshow(r.swapaxes(1,0))"
   ]
  },
  {
   "cell_type": "code",
   "execution_count": 54,
   "id": "de6bfb0a-0959-4d3a-bd96-ee0379da2365",
   "metadata": {},
   "outputs": [
    {
     "data": {
      "text/plain": [
       "(36, 9)"
      ]
     },
     "execution_count": 54,
     "metadata": {},
     "output_type": "execute_result"
    }
   ],
   "source": [
    "r = np.absolute(np.fft.fft2(Raw2Sig(r)))\n",
    "r.shape"
   ]
  },
  {
   "cell_type": "code",
   "execution_count": 55,
   "id": "e09ff047-4ec8-48df-b44a-73af5e92afe0",
   "metadata": {},
   "outputs": [
    {
     "data": {
      "text/plain": [
       "<matplotlib.image.AxesImage at 0x7f49b8209bb0>"
      ]
     },
     "execution_count": 55,
     "metadata": {},
     "output_type": "execute_result"
    },
    {
     "data": {
      "image/png": "[encoded data removed]",
      "text/plain": [
       "<Figure size 864x576 with 1 Axes>"
      ]
     },
     "metadata": {
      "needs_background": "light"
     },
     "output_type": "display_data"
    }
   ],
   "source": [
    "plt.gcf().set_size_inches(12, 8)\n",
    "plt.imshow(r.swapaxes(1,0))"
   ]
  }
 ],
 "metadata": {
  "kernelspec": {
   "display_name": "Python 3 (ipykernel)",
   "language": "python",
   "name": "python3"
  },
  "language_info": {
   "codemirror_mode": {
    "name": "ipython",
    "version": 3
   },
   "file_extension": ".py",
   "mimetype": "text/x-python",
   "name": "python",
   "nbconvert_exporter": "python",
   "pygments_lexer": "ipython3",
   "version": "3.8.12"
  }
 },
 "nbformat": 4,
 "nbformat_minor": 5
}
