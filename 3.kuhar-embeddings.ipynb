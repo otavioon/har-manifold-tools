{
 "cells": [
  {
   "cell_type": "code",
   "execution_count": 1,
   "id": "af0f450d-1f4d-43b9-8a4d-a8408ff529bb",
   "metadata": {},
   "outputs": [],
   "source": [
    "import os\n",
    "import numpy as np\n",
    "import pandas as pd\n",
    "import uuid\n",
    "import time\n",
    "from collections import defaultdict\n",
    "from random import shuffle\n",
    "from typing import List\n",
    "\n",
    "from librep.actions.action import Action\n",
    "from librep.actions.spectogram import ExtractSpectrogram, ExtractCombinedSpectrogram, PlotSpectrogram, ExtractCombinedLogSpectrogram"
   ]
  },
  {
   "cell_type": "code",
   "execution_count": 2,
   "id": "c2d60e43-c801-4c39-a5e2-8ee209fe4f4c",
   "metadata": {},
   "outputs": [],
   "source": [
    "class RemoveNanAlongDimensions(Action):\n",
    "    def run(self, input_data, metadata: dict):\n",
    "        arr = []\n",
    "        for i in range(len(input_data)):\n",
    "            arr.append(input_data[i, ~np.isnan(input_data[i])])\n",
    "        return (np.stack(arr), metadata)\n",
    "    \n",
    "class SplitToLists(Action):\n",
    "    def __init__(self, start: int = None, end: int = None):\n",
    "        self.start = start\n",
    "        self.end = end\n",
    "    \n",
    "    def run(self, input_data, metadata: dict):\n",
    "        start = self.start if self.start is not None else 0\n",
    "        end = self.end if self.end is not None else len(input_data)\n",
    "        if start >= end:\n",
    "            raise ValueError(\"End value must be greater than start value\")\n",
    "        \n",
    "        return ([input_data[i] for i in range(start, end)], metadata)\n",
    "    \n",
    "class PlotAndSave(Action):\n",
    "    def __init__(self, plotter: PlotSpectrogram, root_output_path: str):\n",
    "        self.plotter = plotter\n",
    "        self.output_path = root_output_path\n",
    "        \n",
    "    def run(self, input_data, metadata: dict):\n",
    "        path = os.path.join(\n",
    "            self.output_path, \n",
    "            f\"{metadata['class']}-{metadata['user']}-{metadata['serial']}-{metadata['index']}.png\"\n",
    "        )\n",
    "        os.makedirs(self.output_path, exist_ok=True)\n",
    "        self.plotter.output_path = path\n",
    "        res = self.plotter.run(input_data, metadata)\n",
    "        #print(f\"Figure saved to '{path}'\")\n",
    "        return res\n",
    "    \n",
    "from tqdm import tqdm\n",
    "\n",
    "class ActionExecutor:\n",
    "    def __init__(self, description, actions, input_data, metadata):\n",
    "        self.description = description\n",
    "        self.actions = actions\n",
    "        self.input_data = input_data\n",
    "        self.metadata = metadata\n",
    "        \n",
    "    def run(self):\n",
    "        print(f\"Executing '{self.description}'\")\n",
    "        for i in tqdm(range(len(self.input_data))):\n",
    "            (res, meta) = (self.input_data[i], self.metadata.loc[i])\n",
    "            for action in self.actions:\n",
    "                (res, meta) = action.run(res, meta)\n",
    "        return True\n",
    "    \n",
    "def read_data_meta(directory, datafile=\"data.npz\", metafile=\"meta.csv\"):\n",
    "    data_fname = os.path.join(directory, datafile)\n",
    "    meta_fname = os.path.join(directory, metafile)\n",
    "    data = np.load(data_fname)[\"data\"]\n",
    "    meta = pd.read_csv(meta_fname)\n",
    "    return data, meta"
   ]
  },
  {
   "cell_type": "code",
   "execution_count": 3,
   "id": "3544b9a7-64d6-4db1-9136-2f403b8ae31b",
   "metadata": {},
   "outputs": [],
   "source": [
    "uid = str(time.time())[:8]"
   ]
  },
  {
   "cell_type": "markdown",
   "id": "1da82e06-c53c-44bb-8747-462fa9124f26",
   "metadata": {},
   "source": [
    "# Raw spectrogram combined"
   ]
  },
  {
   "cell_type": "code",
   "execution_count": 8,
   "id": "e3b6f69a-9e9b-4985-a8f8-142dbbb8d45a",
   "metadata": {},
   "outputs": [
    {
     "name": "stderr",
     "output_type": "stream",
     "text": [
      "  0%|          | 1/216 [00:00<00:32,  6.62it/s]"
     ]
    },
    {
     "name": "stdout",
     "output_type": "stream",
     "text": [
      "Executing 'Extract combined spectrogram from accelerometer to output: 'data/embbedings/kuhar/spectrogram/raw/accelerometer-combined/486c8aad/10log10-train-256-128-0.0-1e-07''\n"
     ]
    },
    {
     "name": "stderr",
     "output_type": "stream",
     "text": [
      "100%|██████████| 216/216 [00:30<00:00,  7.15it/s]\n",
      "  3%|▎         | 1/36 [00:00<00:05,  6.56it/s]"
     ]
    },
    {
     "name": "stdout",
     "output_type": "stream",
     "text": [
      "Executing 'Extract combined spectrogram from accelerometer to output: 'data/embbedings/kuhar/spectrogram/raw/accelerometer-combined/486c8aad/10log10-validation-256-128-0.0-1e-07''\n"
     ]
    },
    {
     "name": "stderr",
     "output_type": "stream",
     "text": [
      "100%|██████████| 36/36 [00:04<00:00,  7.45it/s]\n",
      "  1%|          | 1/90 [00:00<00:13,  6.60it/s]"
     ]
    },
    {
     "name": "stdout",
     "output_type": "stream",
     "text": [
      "Executing 'Extract combined spectrogram from accelerometer to output: 'data/embbedings/kuhar/spectrogram/raw/accelerometer-combined/486c8aad/10log10-test-256-128-0.0-1e-07''\n"
     ]
    },
    {
     "name": "stderr",
     "output_type": "stream",
     "text": [
      "100%|██████████| 90/90 [00:12<00:00,  7.01it/s]\n",
      "  0%|          | 1/1945 [00:00<03:54,  8.28it/s]"
     ]
    },
    {
     "name": "stdout",
     "output_type": "stream",
     "text": [
      "Executing 'Extract combined spectrogram from accelerometer to output: 'data/embbedings/kuhar/spectrogram/raw/accelerometer-combined/486c8aad/10log10-direct-256-128-0.0-1e-07''\n"
     ]
    },
    {
     "name": "stderr",
     "output_type": "stream",
     "text": [
      " 41%|████      | 791/1945 [01:45<02:10,  8.87it/s]/home/lopani/Doutorado/H.IAAC-M4-Manifold-Learning-Tools/librep/actions/spectogram.py:66: RuntimeWarning: divide by zero encountered in log10\n",
      "  specs.append((f, t, 10*np.log10(s)))\n",
      "100%|██████████| 1945/1945 [04:19<00:00,  7.49it/s]\n",
      "  0%|          | 1/216 [00:00<00:32,  6.62it/s]"
     ]
    },
    {
     "name": "stdout",
     "output_type": "stream",
     "text": [
      "Executing 'Extract combined spectrogram from gyroscope to output: 'data/embbedings/kuhar/spectrogram/raw/gyroscope-combined/486c8aad/10log10-train-256-128-0.0-1e-07''\n"
     ]
    },
    {
     "name": "stderr",
     "output_type": "stream",
     "text": [
      "100%|██████████| 216/216 [00:28<00:00,  7.53it/s]\n",
      "  3%|▎         | 1/36 [00:00<00:05,  6.61it/s]"
     ]
    },
    {
     "name": "stdout",
     "output_type": "stream",
     "text": [
      "Executing 'Extract combined spectrogram from gyroscope to output: 'data/embbedings/kuhar/spectrogram/raw/gyroscope-combined/486c8aad/10log10-validation-256-128-0.0-1e-07''\n"
     ]
    },
    {
     "name": "stderr",
     "output_type": "stream",
     "text": [
      "100%|██████████| 36/36 [00:04<00:00,  7.54it/s]\n",
      "  1%|          | 1/90 [00:00<00:13,  6.66it/s]"
     ]
    },
    {
     "name": "stdout",
     "output_type": "stream",
     "text": [
      "Executing 'Extract combined spectrogram from gyroscope to output: 'data/embbedings/kuhar/spectrogram/raw/gyroscope-combined/486c8aad/10log10-test-256-128-0.0-1e-07''\n"
     ]
    },
    {
     "name": "stderr",
     "output_type": "stream",
     "text": [
      "100%|██████████| 90/90 [00:15<00:00,  5.98it/s]\n",
      "  0%|          | 1/1945 [00:00<04:08,  7.81it/s]"
     ]
    },
    {
     "name": "stdout",
     "output_type": "stream",
     "text": [
      "Executing 'Extract combined spectrogram from gyroscope to output: 'data/embbedings/kuhar/spectrogram/raw/gyroscope-combined/486c8aad/10log10-direct-256-128-0.0-1e-07''\n"
     ]
    },
    {
     "name": "stderr",
     "output_type": "stream",
     "text": [
      "100%|██████████| 1945/1945 [04:16<00:00,  7.57it/s]\n"
     ]
    }
   ],
   "source": [
    "for t in [\"accelerometer\", \"gyroscope\"]:\n",
    "    for desc, datafile, metafile in [(\"train\", \"train.npz\", \"train.csv\"), (\"validation\", \"validation.npz\", \"validation.csv\"), (\"test\", \"test.npz\", \"test.csv\"), (\"direct\", \"data.npz\", \"meta.csv\")]:\n",
    "        for nperseg, nooverlap, vmin, vmax in [(256, 128, 0.0, 0.0000001)]:\n",
    "            descname = f\"10log10-{desc}-{nperseg}-{nooverlap}-{vmin}-{vmax}\"\n",
    "            dataset_dir = os.path.join(\"data\", \"embbedings\", \"kuhar\", \"direct\", \"raw\", t, \"486c8aad\")\n",
    "            output_path = os.path.join(\"data\", \"embbedings\", \"kuhar\", \"spectrogram\", \"raw\", f\"{t}-combined\", \"486c8aad\", descname) \n",
    "            data, metadata = read_data_meta(dataset_dir, datafile=datafile, metafile=metafile)\n",
    "\n",
    "            remover_nans = RemoveNanAlongDimensions()\n",
    "            splitter = SplitToLists()\n",
    "            spec_extractor = ExtractCombinedLogSpectrogram(fs=100, nperseg=nperseg, nooverlap=nooverlap)\n",
    "            plotter = PlotSpectrogram(vmin=vmin, vmax=vmax, figsize=(8,8), plot_axis=False, display=False)\n",
    "            plot_and_save = PlotAndSave(plotter, output_path) \n",
    "            actions = [remover_nans, splitter, spec_extractor, plot_and_save]\n",
    "            executor = ActionExecutor(\n",
    "                description=f\"Extract combined spectrogram from {t} to output: '{output_path}'\",\n",
    "                actions=actions,\n",
    "                input_data=data,\n",
    "                metadata=metadata\n",
    "            )\n",
    "            executor.run()"
   ]
  },
  {
   "cell_type": "markdown",
   "id": "31296757-f4fa-4a8c-a79b-ed501c8f6537",
   "metadata": {},
   "source": [
    "# Raw spectrogram combined"
   ]
  },
  {
   "cell_type": "code",
   "execution_count": 9,
   "id": "b60714f0-113d-47a0-9208-889932e36c7e",
   "metadata": {},
   "outputs": [
    {
     "name": "stderr",
     "output_type": "stream",
     "text": [
      "  0%|          | 2/1945 [00:00<02:11, 14.77it/s]"
     ]
    },
    {
     "name": "stdout",
     "output_type": "stream",
     "text": [
      "Executing 'Extract combined spectrogram from accelerometer to output: 'data/embbedings/kuhar/spectrogram/raw/accelerometer-combined/486c8aad/direct-256-200-0.0-1.0''\n"
     ]
    },
    {
     "name": "stderr",
     "output_type": "stream",
     "text": [
      "100%|██████████| 1945/1945 [02:36<00:00, 12.40it/s]\n",
      "  0%|          | 2/1945 [00:00<02:22, 13.61it/s]"
     ]
    },
    {
     "name": "stdout",
     "output_type": "stream",
     "text": [
      "Executing 'Extract combined spectrogram from accelerometer to output: 'data/embbedings/kuhar/spectrogram/raw/accelerometer-combined/486c8aad/direct-256-200-0.0-0.05''\n"
     ]
    },
    {
     "name": "stderr",
     "output_type": "stream",
     "text": [
      "100%|██████████| 1945/1945 [02:46<00:00, 11.68it/s]\n",
      "  0%|          | 1/216 [00:00<00:22,  9.48it/s]"
     ]
    },
    {
     "name": "stdout",
     "output_type": "stream",
     "text": [
      "Executing 'Extract combined spectrogram from accelerometer to output: 'data/embbedings/kuhar/spectrogram/raw/accelerometer-combined/486c8aad/train-256-200-0.0-1.0''\n"
     ]
    },
    {
     "name": "stderr",
     "output_type": "stream",
     "text": [
      "100%|██████████| 216/216 [00:18<00:00, 11.59it/s]\n",
      "  0%|          | 1/216 [00:00<00:24,  8.67it/s]"
     ]
    },
    {
     "name": "stdout",
     "output_type": "stream",
     "text": [
      "Executing 'Extract combined spectrogram from accelerometer to output: 'data/embbedings/kuhar/spectrogram/raw/accelerometer-combined/486c8aad/train-256-200-0.0-0.05''\n"
     ]
    },
    {
     "name": "stderr",
     "output_type": "stream",
     "text": [
      "100%|██████████| 216/216 [00:21<00:00,  9.84it/s]\n",
      "  3%|▎         | 1/36 [00:00<00:03,  9.17it/s]"
     ]
    },
    {
     "name": "stdout",
     "output_type": "stream",
     "text": [
      "Executing 'Extract combined spectrogram from accelerometer to output: 'data/embbedings/kuhar/spectrogram/raw/accelerometer-combined/486c8aad/validation-256-200-0.0-1.0''\n"
     ]
    },
    {
     "name": "stderr",
     "output_type": "stream",
     "text": [
      "100%|██████████| 36/36 [00:03<00:00, 11.50it/s]\n",
      "  3%|▎         | 1/36 [00:00<00:04,  8.38it/s]"
     ]
    },
    {
     "name": "stdout",
     "output_type": "stream",
     "text": [
      "Executing 'Extract combined spectrogram from accelerometer to output: 'data/embbedings/kuhar/spectrogram/raw/accelerometer-combined/486c8aad/validation-256-200-0.0-0.05''\n"
     ]
    },
    {
     "name": "stderr",
     "output_type": "stream",
     "text": [
      "100%|██████████| 36/36 [00:03<00:00, 11.00it/s]\n",
      "  1%|          | 1/90 [00:00<00:10,  8.22it/s]"
     ]
    },
    {
     "name": "stdout",
     "output_type": "stream",
     "text": [
      "Executing 'Extract combined spectrogram from accelerometer to output: 'data/embbedings/kuhar/spectrogram/raw/accelerometer-combined/486c8aad/test-256-200-0.0-1.0''\n"
     ]
    },
    {
     "name": "stderr",
     "output_type": "stream",
     "text": [
      "100%|██████████| 90/90 [00:08<00:00, 10.93it/s]\n",
      "  1%|          | 1/90 [00:00<00:10,  8.44it/s]"
     ]
    },
    {
     "name": "stdout",
     "output_type": "stream",
     "text": [
      "Executing 'Extract combined spectrogram from accelerometer to output: 'data/embbedings/kuhar/spectrogram/raw/accelerometer-combined/486c8aad/test-256-200-0.0-0.05''\n"
     ]
    },
    {
     "name": "stderr",
     "output_type": "stream",
     "text": [
      "100%|██████████| 90/90 [00:08<00:00, 10.93it/s]\n",
      "  0%|          | 2/1945 [00:00<01:55, 16.79it/s]"
     ]
    },
    {
     "name": "stdout",
     "output_type": "stream",
     "text": [
      "Executing 'Extract combined spectrogram from gyroscope to output: 'data/embbedings/kuhar/spectrogram/raw/gyroscope-combined/486c8aad/direct-256-200-0.0-1.0''\n"
     ]
    },
    {
     "name": "stderr",
     "output_type": "stream",
     "text": [
      "100%|██████████| 1945/1945 [02:26<00:00, 13.31it/s]\n",
      "  0%|          | 2/1945 [00:00<02:09, 15.04it/s]"
     ]
    },
    {
     "name": "stdout",
     "output_type": "stream",
     "text": [
      "Executing 'Extract combined spectrogram from gyroscope to output: 'data/embbedings/kuhar/spectrogram/raw/gyroscope-combined/486c8aad/direct-256-200-0.0-0.05''\n"
     ]
    },
    {
     "name": "stderr",
     "output_type": "stream",
     "text": [
      "100%|██████████| 1945/1945 [02:39<00:00, 12.17it/s]\n",
      "  0%|          | 1/216 [00:00<00:23,  9.31it/s]"
     ]
    },
    {
     "name": "stdout",
     "output_type": "stream",
     "text": [
      "Executing 'Extract combined spectrogram from gyroscope to output: 'data/embbedings/kuhar/spectrogram/raw/gyroscope-combined/486c8aad/train-256-200-0.0-1.0''\n"
     ]
    },
    {
     "name": "stderr",
     "output_type": "stream",
     "text": [
      "100%|██████████| 216/216 [00:17<00:00, 12.53it/s]\n",
      "  0%|          | 1/216 [00:00<00:22,  9.43it/s]"
     ]
    },
    {
     "name": "stdout",
     "output_type": "stream",
     "text": [
      "Executing 'Extract combined spectrogram from gyroscope to output: 'data/embbedings/kuhar/spectrogram/raw/gyroscope-combined/486c8aad/train-256-200-0.0-0.05''\n"
     ]
    },
    {
     "name": "stderr",
     "output_type": "stream",
     "text": [
      "100%|██████████| 216/216 [00:17<00:00, 12.09it/s]\n",
      "  3%|▎         | 1/36 [00:00<00:03,  9.32it/s]"
     ]
    },
    {
     "name": "stdout",
     "output_type": "stream",
     "text": [
      "Executing 'Extract combined spectrogram from gyroscope to output: 'data/embbedings/kuhar/spectrogram/raw/gyroscope-combined/486c8aad/validation-256-200-0.0-1.0''\n"
     ]
    },
    {
     "name": "stderr",
     "output_type": "stream",
     "text": [
      "100%|██████████| 36/36 [00:02<00:00, 12.56it/s]\n",
      "  3%|▎         | 1/36 [00:00<00:03,  8.94it/s]"
     ]
    },
    {
     "name": "stdout",
     "output_type": "stream",
     "text": [
      "Executing 'Extract combined spectrogram from gyroscope to output: 'data/embbedings/kuhar/spectrogram/raw/gyroscope-combined/486c8aad/validation-256-200-0.0-0.05''\n"
     ]
    },
    {
     "name": "stderr",
     "output_type": "stream",
     "text": [
      "100%|██████████| 36/36 [00:03<00:00, 11.99it/s]\n",
      "  1%|          | 1/90 [00:00<00:09,  9.47it/s]"
     ]
    },
    {
     "name": "stdout",
     "output_type": "stream",
     "text": [
      "Executing 'Extract combined spectrogram from gyroscope to output: 'data/embbedings/kuhar/spectrogram/raw/gyroscope-combined/486c8aad/test-256-200-0.0-1.0''\n"
     ]
    },
    {
     "name": "stderr",
     "output_type": "stream",
     "text": [
      "100%|██████████| 90/90 [00:07<00:00, 12.01it/s]\n",
      "  1%|          | 1/90 [00:00<00:09,  9.32it/s]"
     ]
    },
    {
     "name": "stdout",
     "output_type": "stream",
     "text": [
      "Executing 'Extract combined spectrogram from gyroscope to output: 'data/embbedings/kuhar/spectrogram/raw/gyroscope-combined/486c8aad/test-256-200-0.0-0.05''\n"
     ]
    },
    {
     "name": "stderr",
     "output_type": "stream",
     "text": [
      "100%|██████████| 90/90 [00:08<00:00, 11.24it/s]\n"
     ]
    }
   ],
   "source": [
    "for t in [\"accelerometer\", \"gyroscope\"]:\n",
    "    for desc, datafile, metafile in [(\"direct\", \"data.npz\", \"meta.csv\"), (\"train\", \"train.npz\", \"train.csv\"), (\"validation\", \"validation.npz\", \"validation.csv\"), (\"test\", \"test.npz\", \"test.csv\")]:\n",
    "        for nperseg, nooverlap, vmin, vmax in [(256, 200, 0.0, 1.0), (256, 200, 0.0, 0.05)]:\n",
    "            descname = f\"{desc}-{nperseg}-{nooverlap}-{vmin}-{vmax}\"\n",
    "            dataset_dir = os.path.join(\"data\", \"embbedings\", \"kuhar\", \"direct\", \"raw\", t, \"486c8aad\")\n",
    "            output_path = os.path.join(\"data\", \"embbedings\", \"kuhar\", \"spectrogram\", \"raw\", f\"{t}-combined\", \"486c8aad\", descname) \n",
    "            data, metadata = read_data_meta(dataset_dir, datafile=datafile, metafile=metafile)\n",
    "\n",
    "            remover_nans = RemoveNanAlongDimensions()\n",
    "            splitter = SplitToLists()\n",
    "            spec_extractor = ExtractCombinedSpectrogram(fs=100, nperseg=nperseg, nooverlap=nooverlap)\n",
    "            plotter = PlotSpectrogram(vmin=vmin, vmax=vmax, figsize=(4,4), plot_axis=False, display=False)\n",
    "            plot_and_save = PlotAndSave(plotter, output_path) \n",
    "            actions = [remover_nans, splitter, spec_extractor, plot_and_save]\n",
    "            executor = ActionExecutor(\n",
    "                description=f\"Extract combined spectrogram from {t} to output: '{output_path}'\",\n",
    "                actions=actions,\n",
    "                input_data=data,\n",
    "                metadata=metadata\n",
    "            )\n",
    "            executor.run()"
   ]
  },
  {
   "cell_type": "markdown",
   "id": "9a55d0bb-9a5d-495f-b472-9cfbd802a8e7",
   "metadata": {},
   "source": [
    "# Time-Series Spectrogram"
   ]
  },
  {
   "cell_type": "code",
   "execution_count": 8,
   "id": "f3f49fad-a845-419d-b7bc-996af5da616b",
   "metadata": {},
   "outputs": [
    {
     "name": "stderr",
     "output_type": "stream",
     "text": [
      "  0%|          | 3/19792 [00:00<14:57, 22.05it/s]"
     ]
    },
    {
     "name": "stdout",
     "output_type": "stream",
     "text": [
      "Executing 'Extract combined spectrogram from accelerometer'\n"
     ]
    },
    {
     "name": "stderr",
     "output_type": "stream",
     "text": [
      "100%|██████████| 19792/19792 [14:03<00:00, 23.46it/s]  \n"
     ]
    },
    {
     "data": {
      "text/plain": [
       "True"
      ]
     },
     "execution_count": 8,
     "metadata": {},
     "output_type": "execute_result"
    }
   ],
   "source": [
    "dataset_dir = os.path.join(\"data\", \"dataset_views\", \"kuhar\", \"time-series-300-samples-0-overlap\", \"accelerometer\", \"486c8aad\")\n",
    "output_path = os.path.join(\"outputs\", \"spectograms\", \"kuhar\", \"time-series-300-samples-0-overlap\", \"accelerometer-combined\", \"486c8aad\", uid) \n",
    "data, metadata = read_data_meta(dataset_dir)\n",
    "remover_nans = RemoveNanAlongDimensions()\n",
    "splitter = SplitToLists()\n",
    "spec_extractor = ExtractCombinedSpectrogram(fs=100, nperseg=20, nooverlap=10)\n",
    "plotter = PlotSpectrogram(vmin=0.0, vmax=1.0, figsize=(4,4), plot_axis=False, display=False)\n",
    "plot_and_save = PlotAndSave(plotter, output_path) \n",
    "actions = [remover_nans, splitter, spec_extractor, plot_and_save]\n",
    "executor = ActionExecutor(\n",
    "    description=\"Extract combined spectrogram from accelerometer\",\n",
    "    actions=actions,\n",
    "    input_data=data,\n",
    "    metadata=metadata\n",
    ")\n",
    "executor.run()"
   ]
  },
  {
   "cell_type": "code",
   "execution_count": 9,
   "id": "10a0138a-8b61-4b68-b827-465bc88a11f1",
   "metadata": {},
   "outputs": [
    {
     "name": "stderr",
     "output_type": "stream",
     "text": [
      "  0%|          | 3/19792 [00:00<12:11, 27.06it/s]"
     ]
    },
    {
     "name": "stdout",
     "output_type": "stream",
     "text": [
      "Executing 'Extract combined spectrogram from gyroscope'\n"
     ]
    },
    {
     "name": "stderr",
     "output_type": "stream",
     "text": [
      "100%|██████████| 19792/19792 [12:46<00:00, 25.81it/s]  \n"
     ]
    },
    {
     "data": {
      "text/plain": [
       "True"
      ]
     },
     "execution_count": 9,
     "metadata": {},
     "output_type": "execute_result"
    }
   ],
   "source": [
    "dataset_dir = os.path.join(\"data\", \"dataset_views\", \"kuhar\", \"time-series-300-samples-0-overlap\", \"gyroscope\", \"486c8aad\")\n",
    "output_path = os.path.join(\"outputs\", \"spectograms\", \"kuhar\", \"time-series-300-samples-0-overlap\", \"gyroscope-combined\", \"486c8aad\", uid) \n",
    "data, metadata = read_data_meta(dataset_dir)\n",
    "\n",
    "remover_nans = RemoveNanAlongDimensions()\n",
    "splitter = SplitToLists()\n",
    "spec_extractor = ExtractCombinedSpectrogram(fs=100, nperseg=20, nooverlap=10)\n",
    "plotter = PlotSpectrogram(vmin=0.0, vmax=1.0, figsize=(4,4), plot_axis=False, display=False)\n",
    "plot_and_save = PlotAndSave(plotter, output_path) \n",
    "actions = [remover_nans, splitter, spec_extractor, plot_and_save]\n",
    "executor = ActionExecutor(\n",
    "    description=\"Extract combined spectrogram from gyroscope\",\n",
    "    actions=actions,\n",
    "    input_data=data,\n",
    "    metadata=metadata\n",
    ")\n",
    "executor.run()"
   ]
  },
  {
   "cell_type": "code",
   "execution_count": null,
   "id": "da6b5070-442a-42cc-9747-a370581114a1",
   "metadata": {},
   "outputs": [],
   "source": [
    "data.shape + (2, )"
   ]
  },
  {
   "cell_type": "code",
   "execution_count": null,
   "id": "30109bd5-1074-458d-b7fc-2a74733525b8",
   "metadata": {},
   "outputs": [],
   "source": [
    "arr = np.zeros(data.shape + (2,))\n",
    "for sample in range(data.shape[0]):\n",
    "    for dimension in range(data.shape[1]):\n",
    "        temp = np.fft.fft(data[sample, dimension])\n",
    "        arr[sample, dimension, :, 0] = temp.real\n",
    "        arr[sample, dimension, :, 1] = temp.imag"
   ]
  },
  {
   "cell_type": "code",
   "execution_count": null,
   "id": "fbb97d49-03fb-40df-a9b5-af03dfbbb487",
   "metadata": {},
   "outputs": [],
   "source": [
    "x = arr[0,0].flatten()"
   ]
  },
  {
   "cell_type": "code",
   "execution_count": null,
   "id": "9d8c21f7-dd3e-43a9-93ad-916536dd97fa",
   "metadata": {},
   "outputs": [],
   "source": [
    "x.shape"
   ]
  },
  {
   "cell_type": "code",
   "execution_count": null,
   "id": "6fe165b4-9443-4936-b2d8-d97132d97dd0",
   "metadata": {},
   "outputs": [],
   "source": [
    "x"
   ]
  }
 ],
 "metadata": {
  "kernelspec": {
   "display_name": "Python 3",
   "language": "python",
   "name": "python3"
  },
  "language_info": {
   "codemirror_mode": {
    "name": "ipython",
    "version": 3
   },
   "file_extension": ".py",
   "mimetype": "text/x-python",
   "name": "python",
   "nbconvert_exporter": "python",
   "pygments_lexer": "ipython3",
   "version": "3.6.9"
  }
 },
 "nbformat": 4,
 "nbformat_minor": 5
}
