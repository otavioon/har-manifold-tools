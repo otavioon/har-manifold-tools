{
 "cells": [
  {
   "cell_type": "code",
   "execution_count": 61,
   "id": "e67537fc-f43d-42a7-9664-6dd17f8d9d52",
   "metadata": {},
   "outputs": [
    {
     "data": {
      "text/plain": [
       "True"
      ]
     },
     "execution_count": 61,
     "metadata": {},
     "output_type": "execute_result"
    }
   ],
   "source": [
    "from libhiaac.temporal.datasets.kuhar import BalancedTimeDomainKuHar\n",
    "from libhiaac.temporal.datasets.dataset import TemporalSample\n",
    "from libhiaac.temporal.transforms.transforms import Compose, SpectrogramCombiner\n",
    "from libhiaac.utils.dataset import SimpleDataset, SimpleDataLoader, DataLoader\n",
    "import torch\n",
    "import torchvision\n",
    "import numpy as np\n",
    "import matplotlib.pyplot as plt\n",
    "from typing import List\n",
    "torch.cuda.is_available()"
   ]
  },
  {
   "cell_type": "markdown",
   "id": "ebf66e59-0615-449f-9f99-6806565fe740",
   "metadata": {},
   "source": [
    "# Creating Dataset and Loaders"
   ]
  },
  {
   "cell_type": "code",
   "execution_count": 2,
   "id": "448a45d0-9d8d-43c3-ac71-22d74201ab15",
   "metadata": {},
   "outputs": [],
   "source": [
    "class MakeSpec:\n",
    "    def __call__(self, value):\n",
    "        fig = plt.figure(figsize=(1, 1))\n",
    "        ax = fig.add_axes([0, 0, 1, 1])\n",
    "        ax.pcolormesh(value[1], value[0], value[2], shading=\"gouraud\", vmin=0, vmax=0.01)\n",
    "        fig.canvas.draw()\n",
    "        # Now we can save it to a numpy array.\n",
    "        data = np.frombuffer(fig.canvas.tostring_rgb(), dtype=np.uint8)\n",
    "        data = data.reshape(fig.canvas.get_width_height()[::-1] + (3,))\n",
    "        plt.close(\"all\")\n",
    "        return data\n",
    "\n",
    "spec_combiner = SpectrogramCombiner(fs=100, nperseg=10, nooverlap=1)\n",
    "make_scpec_fig = MakeSpec()\n",
    "piller = torchvision.transforms.ToPILImage()\n",
    "resizer = torchvision.transforms.Resize((32,32))\n",
    "tensorize = torchvision.transforms.ToTensor()\n",
    "composer = Compose([spec_combiner, make_scpec_fig, piller, resizer, tensorize])"
   ]
  },
  {
   "cell_type": "code",
   "execution_count": 3,
   "id": "dbeb7d73-79ab-4643-8837-9b92919e1541",
   "metadata": {},
   "outputs": [
    {
     "name": "stdout",
     "output_type": "stream",
     "text": [
      "'data/datasets/KuHar/Balanced/train.csv' already exists and will not be downloaded again\n",
      "Done!\n",
      "'data/datasets/KuHar/Balanced/val.csv' already exists and will not be downloaded again\n",
      "Done!\n",
      "'data/datasets/KuHar/Balanced/test.csv' already exists and will not be downloaded again\n",
      "Done!\n"
     ]
    }
   ],
   "source": [
    "train_dataset = BalancedTimeDomainKuHar(dataset_path=\"data/datasets/KuHar/Balanced\", download=True, mode=\"train\", transforms=composer)\n",
    "val_dataset = BalancedTimeDomainKuHar(dataset_path=\"data/datasets/KuHar/Balanced\", download=True, mode=\"validation\", transforms=composer)\n",
    "test_dataset = BalancedTimeDomainKuHar(dataset_path=\"data/datasets/KuHar/Balanced\", download=True, mode=\"test\", transforms=composer)"
   ]
  },
  {
   "cell_type": "code",
   "execution_count": 4,
   "id": "7e8a7703-35d0-4254-9ef8-2bf7fb6d11d3",
   "metadata": {},
   "outputs": [],
   "source": [
    "processed_train_dataset = SimpleDataset(list(train_dataset))\n",
    "processed_val_dataset = SimpleDataset(list(val_dataset))\n",
    "processed_test_dataset = SimpleDataset(list(test_dataset))"
   ]
  },
  {
   "cell_type": "code",
   "execution_count": 88,
   "id": "f454c155",
   "metadata": {},
   "outputs": [],
   "source": [
    "def stack_tensors(keys: List[str], class_key: str):\n",
    "    def _stack(batch):\n",
    "        values = []\n",
    "        for x in batch:\n",
    "            values.append(torch.cat([x[key] for key in keys])) \n",
    "            \n",
    "        xs = torch.stack(values, axis=0)\n",
    "        ys = torch.tensor([x[\"meta\"][class_key] for x in batch])\n",
    "        return (xs, ys)\n",
    "    return _stack\n",
    "\n",
    "sensor_stacker = stack_tensors(keys=[\"accelerometer\", \"gyroscope\"], class_key=\"class\")"
   ]
  },
  {
   "cell_type": "code",
   "execution_count": 89,
   "id": "b348c6f7",
   "metadata": {},
   "outputs": [
    {
     "name": "stdout",
     "output_type": "stream",
     "text": [
      "(batch size: 16) train batches: 150, validation batches: 12, test batches: 45\n"
     ]
    }
   ],
   "source": [
    "batch_size = 16\n",
    "train_loader = SimpleDataLoader(processed_train_dataset, shuffle=True, batch_size=batch_size, batch_transform=sensor_stacker)\n",
    "val_loader = SimpleDataLoader(processed_val_dataset, shuffle=True, batch_size=batch_size, batch_transform=sensor_stacker)\n",
    "test_loader = SimpleDataLoader(processed_test_dataset, shuffle=True, batch_size=batch_size, batch_transform=sensor_stacker)\n",
    "print(f\"(batch size: {batch_size}) train batches: {len(train_loader)}, validation batches: {len(val_loader)}, test batches: {len(test_loader)}\")"
   ]
  },
  {
   "cell_type": "markdown",
   "id": "008ee9e4-d7f4-4f7b-945a-dede879ea40a",
   "metadata": {},
   "source": [
    "# Wrtting add transformation"
   ]
  },
  {
   "cell_type": "code",
   "execution_count": 90,
   "id": "14db0777-7dda-44c7-aa43-617dad8dda5f",
   "metadata": {},
   "outputs": [],
   "source": [
    "import torch.fx\n",
    "import uuid\n",
    "\n",
    "def add_new_module(graph_module, graph_new_module, index: int):\n",
    "    mod_name = str(uuid.uuid4())[:8]\n",
    "    graph_module.add_submodule(mod_name, graph_new_module)\n",
    "    \n",
    "    cutoff_node: torch.fx.Node = list(graph_module.graph.nodes)[index]\n",
    "    next_node: torch.fx.Node = list(graph_module.graph.nodes)[index+1]\n",
    "    \n",
    "    with graph_module.graph.inserting_after(cutoff_node):\n",
    "        new_node = graph_module.graph.call_module(mod_name, (cutoff_node,), {})\n",
    "    \n",
    "    next_node.replace_input_with(cutoff_node, new_node)\n",
    "\n",
    "    graph_module.graph.eliminate_dead_code()\n",
    "    graph_module.recompile()\n",
    "    graph_module.graph.lint()\n",
    "    graph_module = torch.fx.symbolic_trace(graph_module)\n",
    "    graph_module.delete_all_unused_submodules()\n",
    "    return graph_module\n",
    "\n",
    "class Conv1x1Module6to3(torch.nn.Module):\n",
    "    def __init__(self):\n",
    "        super().__init__()\n",
    "        self.conv1x1 = torch.nn.Conv2d(in_channels=6, out_channels=3, kernel_size=(1,1))\n",
    "        \n",
    "    def forward(self, x):\n",
    "        return self.conv1x1(x)\n",
    "    \n",
    "# from libhiaac.models.cnn import LeNet\n",
    "# model = LeNet(num_classes=18)\n",
    "# model_name = model.name\n",
    "# model: torch.fx.GraphModule = torch.fx.symbolic_trace(model)\n",
    "\n",
    "# conv1x1 = Conv1x1Module()\n",
    "# conv1x1 = torch.fx.symbolic_trace(conv1x1)\n",
    "\n",
    "# print(f\"{'-'*30} BEFORE {'-'*30}\") \n",
    "# model.graph.print_tabular()\n",
    "# print(f\"{'-'*80}\\n\") \n",
    "\n",
    "# model = add_new_module(model, conv1x1, 0)\n",
    "\n",
    "# print(f\"{'-'*30} AFTER {'-'*30}\") \n",
    "# model.graph.print_tabular()\n",
    "# print(f\"{'-'*80}\\n\") "
   ]
  },
  {
   "cell_type": "markdown",
   "id": "f1bd6885-0bc5-4d66-b105-69426cf52501",
   "metadata": {},
   "source": [
    "# Train Loop"
   ]
  },
  {
   "cell_type": "code",
   "execution_count": 91,
   "id": "cb43cf32-7b51-4b32-a8d7-96a33349b2a1",
   "metadata": {},
   "outputs": [],
   "source": [
    "from collections import defaultdict\n",
    "\n",
    "def train(model, loader: DataLoader, criterion, optimizer, device: str = \"cpu\"):\n",
    "    train_acc = 0.0\n",
    "    running_loss = 0.0\n",
    "    #TODO per class acc in a func\n",
    "    correct_pred = defaultdict(int)\n",
    "    total_pred = defaultdict(int)\n",
    "    \n",
    "    for data, labels in loader:\n",
    "        # get the inputs; data is a list of [inputs, labels]\n",
    "        data = data.to(device)\n",
    "        labels = labels.to(device)\n",
    "        # zero the parameter gradients\n",
    "        optimizer.zero_grad()\n",
    "        # forward + backward + optimize\n",
    "        outputs = model(data)\n",
    "        loss = criterion(outputs, labels)\n",
    "        loss.backward()\n",
    "        optimizer.step()\n",
    "        # Update metrics\n",
    "        running_loss += loss.item()\n",
    "        \n",
    "        _, predictions = torch.max(outputs, 1)\n",
    "        train_acc += 100*(predictions == labels).float().mean()/len(loader)\n",
    "        \n",
    "        for label, prediction in zip(labels, predictions):\n",
    "            label = int(label)\n",
    "            if label == prediction:\n",
    "                correct_pred[label] += 1\n",
    "            total_pred[label] += 1\n",
    "        \n",
    "    return float(train_acc), dict(correct_pred), dict(total_pred), float(running_loss)\n",
    "\n",
    "\n",
    "def test(model, loader: DataLoader, device: str = \"cpu\"):\n",
    "    test_acc = 0.0\n",
    "    correct_pred = defaultdict(int)\n",
    "    total_pred = defaultdict(int)\n",
    "    \n",
    "    with torch.no_grad():\n",
    "        for data, labels in loader:\n",
    "            data = data.to(device)\n",
    "            labels = labels.to(device)\n",
    "            outputs = model(data)\n",
    "            _, predictions = torch.max(outputs, 1)\n",
    "            test_acc += 100*(predictions == labels).float().mean()/len(loader)\n",
    "            for label, prediction in zip(labels, predictions):\n",
    "                label = int(label)\n",
    "                if label == prediction:\n",
    "                    correct_pred[label] += 1\n",
    "                total_pred[label] += 1\n",
    "\n",
    "    return float(test_acc), dict(correct_pred), dict(total_pred)\n",
    "\n",
    "def train_loop(model, train_loader: DataLoader, val_loader: DataLoader, test_loader: DataLoader = None, epochs: int = 10, device: str = \"cpu\", batch_size: int = 1, print_every: int = 1):\n",
    "    criterion = torch.nn.CrossEntropyLoss()\n",
    "    optimizer = torch.optim.SGD(model.parameters(), lr=0.001, momentum=0.9)\n",
    "    model = model.to(device)\n",
    "    metrics = defaultdict(list)\n",
    "    for epoch in range(epochs):\n",
    "        train_acc, train_correct_pred, train_total_pred, loss = train(model=model, loader=train_loader, criterion=criterion, optimizer=optimizer, device=device)\n",
    "        val_acc, val_correct_pred, val_total_pred = test(model=model, loader=val_loader, device=device)\n",
    "        loss = loss/batch_size\n",
    "        if print_every != 0:\n",
    "            if epoch % print_every == 0:\n",
    "                print(f\"[{epoch+1:4d}/{epochs:5d}] loss: {loss:8.4f}; train_acc: {train_acc:8.4f}; val_acc: {val_acc:8.4f}\")\n",
    "        \n",
    "        metrics[\"train_acc\"].append(train_acc)\n",
    "        metrics[\"train_correct_pred\"].append(train_correct_pred)\n",
    "        metrics[\"train_total_pred\"].append(train_total_pred)\n",
    "        metrics[\"train_loss\"].append(loss)\n",
    "        metrics[\"val_acc\"].append(val_acc)\n",
    "        metrics[\"val_correct_pred\"].append(val_correct_pred)\n",
    "        metrics[\"val_total_pred\"].append(val_total_pred)\n",
    "        \n",
    "    if test_loader is not None:\n",
    "        test_acc, test_correct_pred, test_total_pred = test(model=model, loader=test_loader, device=device)\n",
    "        metrics[\"test_acc\"].append(test_acc)\n",
    "        metrics[\"test_correct_pred\"].append(test_correct_pred)\n",
    "        metrics[\"test_total_pred\"].append(test_total_pred)\n",
    "        \n",
    "    return dict(metrics)"
   ]
  },
  {
   "cell_type": "code",
   "execution_count": 162,
   "id": "93d57a48-1dd4-4d89-9574-314ccd50bf03",
   "metadata": {},
   "outputs": [],
   "source": [
    "import time\n",
    "from contextlib import contextmanager\n",
    "\n",
    "@contextmanager\n",
    "def timer() -> float:\n",
    "    start = time.time()\n",
    "    yield lambda: time.time() - start\n",
    "    \n",
    "def print_train_summary(model_name, metrics_dict):\n",
    "    train_acc = max(metrics_dict[model_name][\"train_acc\"])\n",
    "    val_acc = max(metrics_dict[model_name][\"val_acc\"])\n",
    "    if \"test_acc\" in metrics_dict[model_name]:\n",
    "        test_acc = max(metrics_dict[model_name][\"test_acc\"])\n",
    "    else:\n",
    "        test_acc = 0.0\n",
    "    loss = min(metrics_dict[model_name][\"train_loss\"])\n",
    "    print(f\"{model_name:20s} - loss: {loss:8.4f}; train_acc: {train_acc:8.4f}; val_acc: {val_acc:8.4f}; test_acc: {test_acc:8.4f}\")\n",
    "    \n",
    "    print(\"Per class prediction\")\n",
    "    for key in sorted(metrics_dict[model_name][\"test_total_pred\"][-1].keys()):\n",
    "        if key not in metrics_dict[model_name]['test_correct_pred'][-1]:\n",
    "            metrics_dict[model_name]['test_correct_pred'][-1][key] = 0\n",
    "        print(f\"    Class {key:4d}: {100*metrics_dict[model_name]['test_correct_pred'][-1][key]/metrics_dict[model_name]['test_total_pred'][-1][key]:8.4f} %\")\n",
    "        \n",
    "def plot_acc(model_name, train_acc, val_acc, loss, n_epochs):\n",
    "    xs = np.arange(0, n_epochs, 1)\n",
    "    plt.figure(figsize=(12, 8))\n",
    "    plt.plot(xs, train_acc, label=\"train_acc\")\n",
    "    plt.plot(xs, val_acc, label=\"val_acc\")\n",
    "    plt.plot(xs, loss, label=\"loss\")\n",
    "    plt.xlabel('Epochs')\n",
    "    plt.title(model_name)\n",
    "    # show a legend on the plot\n",
    "    plt.legend()\n",
    "    # Display a figure.\n",
    "    plt.show()"
   ]
  },
  {
   "cell_type": "markdown",
   "id": "a690e253-8340-4a66-8019-a8aa21ff0d1c",
   "metadata": {},
   "source": [
    "# Process"
   ]
  },
  {
   "cell_type": "code",
   "execution_count": 164,
   "id": "c90bd222-a171-48f3-bd8d-8cf6de4f2ea4",
   "metadata": {},
   "outputs": [
    {
     "name": "stdout",
     "output_type": "stream",
     "text": [
      "[   1/   10] loss:  27.1098; train_acc:   8.5417; val_acc:  11.4583\n",
      "[   6/   10] loss:  23.0500; train_acc:  16.2500; val_acc:  23.4375\n",
      "Execution took 4.5172 seconds\n",
      "LeNet                - loss:  16.8019; train_acc:  26.8750; val_acc:  23.4375; test_acc:  23.0556\n",
      "Per class prediction\n",
      "    Class    0:   0.0000 %\n",
      "    Class    1:   0.0000 %\n",
      "    Class    2:  97.3684 %\n",
      "    Class    3:  23.0769 %\n",
      "    Class    4:   0.0000 %\n",
      "    Class    5:   0.0000 %\n",
      "    Class    6:  90.0000 %\n",
      "    Class    7:  35.8974 %\n",
      "    Class    8:  35.8974 %\n",
      "    Class    9:   0.0000 %\n",
      "    Class   10:   0.0000 %\n",
      "    Class   11:  20.0000 %\n",
      "    Class   12:   0.0000 %\n",
      "    Class   13:  24.3243 %\n",
      "    Class   14:  84.2105 %\n",
      "    Class   15:  17.9487 %\n",
      "    Class   16:   0.0000 %\n",
      "    Class   17:   0.0000 %\n"
     ]
    }
   ],
   "source": [
    "from libhiaac.models.cnn import LeNet\n",
    "model = LeNet(num_classes=18)\n",
    "model_name = model.name\n",
    "model: torch.fx.GraphModule = torch.fx.symbolic_trace(model)\n",
    "\n",
    "conv1x1 = Conv1x1Module6to3()\n",
    "conv1x1 = torch.fx.symbolic_trace(conv1x1)\n",
    "\n",
    "model = add_new_module(model, conv1x1, 0)\n",
    "\n",
    "with timer() as t:\n",
    "    metrics[model_name] = train_loop(model=model, train_loader=train_loader, val_loader=val_loader, test_loader=test_loader, epochs=epochs, device=device, batch_size=batch_size, print_every=print_every)\n",
    "print(f\"Execution took {t():.4f} seconds\")\n",
    "print_train_summary(model_name, metrics)"
   ]
  },
  {
   "cell_type": "code",
   "execution_count": 94,
   "id": "9e347c8c-61cb-486d-8ec9-06a3f071dac8",
   "metadata": {},
   "outputs": [
    {
     "name": "stdout",
     "output_type": "stream",
     "text": [
      "[   1/  100] loss:  18.9167; train_acc:  29.2083; val_acc:  36.4583\n",
      "[   6/  100] loss:  10.3604; train_acc:  56.7500; val_acc:  48.4375\n",
      "[  11/  100] loss:   7.6305; train_acc:  69.2500; val_acc:  50.0000\n",
      "[  16/  100] loss:   5.2750; train_acc:  79.4167; val_acc:  53.1250\n",
      "[  21/  100] loss:   3.4550; train_acc:  86.5834; val_acc:  54.6875\n",
      "[  26/  100] loss:   2.7771; train_acc:  89.0417; val_acc:  51.5625\n",
      "[  31/  100] loss:   2.0605; train_acc:  91.6250; val_acc:  49.4792\n",
      "[  36/  100] loss:   1.5488; train_acc:  93.6667; val_acc:  57.8125\n",
      "[  41/  100] loss:   1.4033; train_acc:  94.5000; val_acc:  60.4167\n",
      "[  46/  100] loss:   1.1319; train_acc:  95.4583; val_acc:  53.6458\n",
      "[  51/  100] loss:   1.0386; train_acc:  96.0833; val_acc:  55.7292\n",
      "[  56/  100] loss:   0.8099; train_acc:  97.0000; val_acc:  57.2917\n",
      "[  61/  100] loss:   0.5729; train_acc:  97.9999; val_acc:  55.7292\n",
      "[  66/  100] loss:   0.5958; train_acc:  97.9166; val_acc:  51.0417\n",
      "[  71/  100] loss:   0.4262; train_acc:  98.8749; val_acc:  57.2917\n",
      "[  76/  100] loss:   0.2441; train_acc:  99.2916; val_acc:  54.6875\n",
      "[  81/  100] loss:   0.4112; train_acc:  98.7499; val_acc:  56.7708\n",
      "[  86/  100] loss:   0.1497; train_acc:  99.7499; val_acc:  59.3750\n",
      "[  91/  100] loss:   0.0511; train_acc:  99.9166; val_acc:  57.8125\n",
      "[  96/  100] loss:   0.0443; train_acc:  99.9582; val_acc:  58.8542\n",
      "Execution took 940.3916 seconds\n",
      "DenseNet121          - loss:   0.0443; train_acc:  99.9582; val_acc:  60.4167; test_acc:  50.5555\n"
     ]
    }
   ],
   "source": [
    "from libhiaac.models.cnn import DenseNet121\n",
    "model = DenseNet121(num_classes=18)\n",
    "model_name = model.name\n",
    "model: torch.fx.GraphModule = torch.fx.symbolic_trace(model)\n",
    "\n",
    "conv1x1 = Conv1x1Module6to3()\n",
    "conv1x1 = torch.fx.symbolic_trace(conv1x1)\n",
    "\n",
    "model = add_new_module(model, conv1x1, 0)\n",
    "\n",
    "with timer() as t:\n",
    "    metrics[model_name] = train_loop(model=model, train_loader=train_loader, val_loader=val_loader, test_loader=test_loader, epochs=epochs, device=device, batch_size=batch_size, print_every=print_every)\n",
    "print(f\"Execution took {t():.4f} seconds\")\n",
    "print_train_summary(model_name, metrics)"
   ]
  },
  {
   "cell_type": "code",
   "execution_count": 174,
   "id": "4efddd0d-552c-402a-bef4-f41459038afe",
   "metadata": {},
   "outputs": [],
   "source": [
    "import functools\n",
    "import torch\n",
    "\n",
    "from libhiaac.models.cnn.densenet import DenseNet121, DenseNet161, DenseNet169, DenseNet201, densenet_cifar\n",
    "from libhiaac.models.cnn.dpn import DPN26, DPN92\n",
    "from libhiaac.models.cnn.efficientnet import EfficientNetB0\n",
    "from libhiaac.models.cnn.googlenet import GoogLeNet\n",
    "from libhiaac.models.cnn.lenet import LeNet\n",
    "from libhiaac.models.cnn.mobilenet import MobileNet\n",
    "from libhiaac.models.cnn.mobilenetv2 import MobileNetV2\n",
    "from libhiaac.models.cnn.pnasnet import PNASNetA, PNASNetB\n",
    "from libhiaac.models.cnn.preact_resnet import PreActResNet18, PreActResNet34, PreActResNet50, PreActResNet101, PreActResNet152\n",
    "from libhiaac.models.cnn.resnet import ResNet18, ResNet34, ResNet50, ResNet101, ResNet152\n",
    "from libhiaac.models.cnn.resnext import ResNeXt29_2x64d, ResNeXt29_4x64d, ResNeXt29_8x64d, ResNeXt29_32x4d\n",
    "from libhiaac.models.cnn.senet import SENet18\n",
    "from libhiaac.models.cnn.shufflenet import ShuffleNetG2, ShuffleNetG3\n",
    "from libhiaac.models.cnn.shufflenetv2 import ShuffleNetV2_05, ShuffleNetV2_10, ShuffleNetV2_15, ShuffleNetV2_20\n",
    "from libhiaac.models.cnn.vgg import VGG_11, VGG_13, VGG_16, VGG_19 \n",
    "\n",
    "def partialclass(cls, *args, **kwds):\n",
    "\n",
    "    class NewCls(cls):\n",
    "        __init__ = functools.partialmethod(cls.__init__, *args, **kwds)\n",
    "\n",
    "    return NewCls\n",
    "\n",
    "cnn_models = {\n",
    "    'densenet121': functools.partial(DenseNet121, num_classes=num_classes),\n",
    "    'densenet161': functools.partial(DenseNet161, num_classes=num_classes),\n",
    "    'densenet169': functools.partial(DenseNet169, num_classes=num_classes),\n",
    "    'densenet201': functools.partial(DenseNet201, num_classes=num_classes),\n",
    "    'densenet_cifar': functools.partial(densenet_cifar, num_classes=num_classes),\n",
    "    'dpn26': functools.partial(DPN26, num_classes=num_classes),\n",
    "    'dpn92': functools.partial(DPN92, num_classes=num_classes),\n",
    "    #'efficientnetb0': functools.partial(EfficientNetB0, num_classes=num_classes),\n",
    "    'googlenet': partialclass(GoogLeNet, num_classes=num_classes),\n",
    "    'lenet': partialclass(LeNet, num_classes=num_classes),\n",
    "    'mobilenet': partialclass(MobileNet, num_classes=num_classes),\n",
    "    'mobilenetv2': partialclass(MobileNetV2, num_classes=num_classes),\n",
    "    'pnasnet_a': functools.partial(PNASNetA, num_classes=num_classes),\n",
    "    'pnasnet_b': functools.partial(PNASNetB, num_classes=num_classes),\n",
    "    'preactresnet18': functools.partial(PreActResNet18, num_classes=num_classes),\n",
    "    'preactresnet34': functools.partial(PreActResNet34, num_classes=num_classes),\n",
    "    'preactresnet50': functools.partial(PreActResNet50, num_classes=num_classes),\n",
    "    'preactresnet101': functools.partial(PreActResNet101, num_classes=num_classes),\n",
    "    'preactresnet152': functools.partial(PreActResNet152, num_classes=num_classes),\n",
    "    'resnet18': functools.partial(ResNet18, num_classes=num_classes),\n",
    "    'resnet34': functools.partial(ResNet34, num_classes=num_classes),\n",
    "    'resnet50': functools.partial(ResNet50, num_classes=num_classes),\n",
    "    'resnet101': functools.partial(ResNet101, num_classes=num_classes),\n",
    "    'resnet152': functools.partial(ResNet152, num_classes=num_classes),\n",
    "    'resnext29_2x64d': functools.partial(ResNeXt29_2x64d, num_classes=num_classes),\n",
    "    'resnext29_4x64d': functools.partial(ResNeXt29_4x64d, num_classes=num_classes),\n",
    "    'resnext29_8x64d': functools.partial(ResNeXt29_8x64d, num_classes=num_classes),\n",
    "    'resnext29_32x4d': functools.partial(ResNeXt29_32x4d, num_classes=num_classes),\n",
    "    #'senet18': functools.partial(SENet18, num_classes=num_classes),\n",
    "    # 'shufflenetg2': ShuffleNetG2,\n",
    "    # 'shufflenetg3': ShuffleNetG3,\n",
    "    #'shufflenetv2_0.5': functools.partial(ShuffleNetV2_05, num_classes=num_classes),\n",
    "    #'shufflenetv2_1.0': functools.partial(ShuffleNetV2_10, num_classes=num_classes),\n",
    "    #'shufflenetv2_1.5': functools.partial(ShuffleNetV2_15, num_classes=num_classes),\n",
    "    #'shufflenetv2_2.0': functools.partial(ShuffleNetV2_20, num_classes=num_classes),\n",
    "    'vgg11': functools.partial(VGG_11, num_classes=num_classes),\n",
    "    'vgg13': functools.partial(VGG_13, num_classes=num_classes),\n",
    "    'vgg16': functools.partial(VGG_16, num_classes=num_classes),\n",
    "    'vgg19': functools.partial(VGG_19, num_classes=num_classes)\n",
    "}\n"
   ]
  },
  {
   "cell_type": "code",
   "execution_count": 176,
   "id": "d0f3f526-e70e-4741-a770-1f2c1fb0fa1d",
   "metadata": {},
   "outputs": [],
   "source": [
    "# Default parameters\n",
    "\n",
    "metrics = dict()\n",
    "epochs = 100\n",
    "device = \"cuda\"\n",
    "batch_size = batch_size\n",
    "print_every = 10\n",
    "num_classes = 18"
   ]
  },
  {
   "cell_type": "code",
   "execution_count": 177,
   "id": "4975ec3e-b68d-4cec-a9d6-f6eec7544460",
   "metadata": {},
   "outputs": [],
   "source": [
    "def train_mixed_model(model, train_loader: DataLoader, val_loader: DataLoader, test_loader: DataLoader, epochs: int, device: str, batch_size: int, print_every: int):\n",
    "    model_name = model.name\n",
    "    model: torch.fx.GraphModule = torch.fx.symbolic_trace(model)\n",
    "\n",
    "    conv1x1 = Conv1x1Module6to3()\n",
    "    conv1x1 = torch.fx.symbolic_trace(conv1x1)\n",
    "\n",
    "    model = add_new_module(model, conv1x1, 0)\n",
    "\n",
    "    print(f\"{'-'*30} Start training with model: {model_name} {'-'*30}\")\n",
    "    with timer() as t:\n",
    "        metrics[model_name] = train_loop(model=model, train_loader=train_loader, val_loader=val_loader, test_loader=test_loader, epochs=epochs, device=device, batch_size=batch_size, print_every=print_every)\n",
    "    print(f\"Execution took {t():.4f} seconds\")\n",
    "    print_train_summary(model_name, metrics)\n",
    "    plot_acc(model_name=model_name, train_acc=metrics[model_name][\"train_acc\"], val_acc=metrics[model_name][\"val_acc\"], loss=metrics[model_name][\"train_loss\"], n_epochs=epochs)\n",
    "    print(f\"{'-'*30} Finish training with model: {model_name} {'-'*30}\\n\\n\\n\")"
   ]
  },
  {
   "cell_type": "code",
   "execution_count": null,
   "id": "77225ab8-a586-4fd1-8d44-551c2e3e6dbb",
   "metadata": {},
   "outputs": [
    {
     "name": "stdout",
     "output_type": "stream",
     "text": [
      "------------------------------ Start training with model: DenseNet121 ------------------------------\n",
      "[   1/  100] loss:  19.2297; train_acc:  27.2917; val_acc:  38.5417\n",
      "[  11/  100] loss:   8.0097; train_acc:  67.2500; val_acc:  46.8750\n",
      "[  21/  100] loss:   3.6051; train_acc:  85.6667; val_acc:  55.7292\n",
      "[  31/  100] loss:   2.0999; train_acc:  91.9583; val_acc:  53.6458\n",
      "[  41/  100] loss:   1.5304; train_acc:  93.7083; val_acc:  51.0417\n",
      "[  51/  100] loss:   0.9376; train_acc:  96.4167; val_acc:  52.0833\n",
      "[  61/  100] loss:   0.8133; train_acc:  96.8333; val_acc:  49.4792\n",
      "[  71/  100] loss:   0.4553; train_acc:  98.2499; val_acc:  57.8125\n",
      "[  81/  100] loss:   0.2340; train_acc:  99.4583; val_acc:  53.1250\n",
      "[  91/  100] loss:   0.2612; train_acc:  99.2499; val_acc:  48.4375\n",
      "Execution took 937.7295 seconds\n",
      "DenseNet121          - loss:   0.0771; train_acc:  99.9582; val_acc:  58.8542; test_acc:  51.3889\n",
      "Per class prediction\n",
      "    Class    0:  65.0000 %\n",
      "    Class    1:  62.5000 %\n",
      "    Class    2:  65.0000 %\n",
      "    Class    3:  70.2703 %\n",
      "    Class    4:  69.2308 %\n",
      "    Class    5:  56.4103 %\n",
      "    Class    6:  58.9744 %\n",
      "    Class    7:  57.8947 %\n",
      "    Class    8:  40.0000 %\n",
      "    Class    9:  76.9231 %\n",
      "    Class   10:  19.4444 %\n",
      "    Class   11:  27.5000 %\n",
      "    Class   12:  52.5000 %\n",
      "    Class   13:  42.5000 %\n",
      "    Class   14:  84.6154 %\n",
      "    Class   15:  22.5000 %\n",
      "    Class   16:  20.0000 %\n",
      "    Class   17:  55.2632 %\n"
     ]
    },
    {
     "data": {
      "image/png": "[encoded data removed]",
      "text/plain": [
       "<Figure size 864x576 with 1 Axes>"
      ]
     },
     "metadata": {
      "needs_background": "light"
     },
     "output_type": "display_data"
    },
    {
     "name": "stdout",
     "output_type": "stream",
     "text": [
      "------------------------------ Finish training with model: DenseNet121 ------------------------------\n",
      "\n",
      "\n",
      "\n",
      "------------------------------ Start training with model: DenseNet161 ------------------------------\n",
      "[   1/  100] loss:  18.1712; train_acc:  28.8750; val_acc:  37.5000\n",
      "[  11/  100] loss:   6.7055; train_acc:  73.0417; val_acc:  47.9167\n",
      "[  21/  100] loss:   2.3933; train_acc:  90.9583; val_acc:  53.6458\n",
      "[  31/  100] loss:   1.7766; train_acc:  92.3750; val_acc:  51.0417\n",
      "[  41/  100] loss:   1.0705; train_acc:  95.4583; val_acc:  56.2500\n",
      "[  51/  100] loss:   0.7971; train_acc:  96.7916; val_acc:  56.2500\n"
     ]
    }
   ],
   "source": [
    "for model_name in sorted(cnn_models.keys()):\n",
    "    model_cls = cnn_models[model_name]\n",
    "    model = model_cls()\n",
    "    train_mixed_model(model, train_loader=train_loader, val_loader=val_loader, test_loader=test_loader, epochs=epochs, device=device, batch_size=batch_size, print_every=print_every)"
   ]
  },
  {
   "cell_type": "code",
   "execution_count": null,
   "id": "c5df3dac-ad56-431b-9497-5dadbe229d03",
   "metadata": {},
   "outputs": [],
   "source": [
    "metrics"
   ]
  },
  {
   "cell_type": "code",
   "execution_count": null,
   "id": "cc9617a3-08a2-429e-b817-0c08b175bac0",
   "metadata": {},
   "outputs": [],
   "source": []
  }
 ],
 "metadata": {
  "kernelspec": {
   "display_name": "Python 3 (ipykernel)",
   "language": "python",
   "name": "python3"
  },
  "language_info": {
   "codemirror_mode": {
    "name": "ipython",
    "version": 3
   },
   "file_extension": ".py",
   "mimetype": "text/x-python",
   "name": "python",
   "nbconvert_exporter": "python",
   "pygments_lexer": "ipython3",
   "version": "3.8.12"
  }
 },
 "nbformat": 4,
 "nbformat_minor": 5
}
